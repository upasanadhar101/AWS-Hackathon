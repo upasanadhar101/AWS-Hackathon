{
 "cells": [
  {
   "cell_type": "code",
   "execution_count": 5,
   "metadata": {},
   "outputs": [
    {
     "name": "stdout",
     "output_type": "stream",
     "text": [
      "Collecting package metadata (current_repodata.json): done\n",
      "Solving environment: done\n",
      "\n",
      "\n",
      "==> WARNING: A newer version of conda exists. <==\n",
      "  current version: 4.7.10\n",
      "  latest version: 4.8.4\n",
      "\n",
      "Please update conda by running\n",
      "\n",
      "    $ conda update -n base -c defaults conda\n",
      "\n",
      "\n",
      "\n",
      "# All requested packages already installed.\n",
      "\n"
     ]
    }
   ],
   "source": [
    "import pandas as pd\n",
    "import numpy as np\n",
    "\n",
    "%matplotlib inline\n",
    "!conda install -c anaconda seaborn -y"
   ]
  },
  {
   "cell_type": "code",
   "execution_count": 6,
   "metadata": {},
   "outputs": [],
   "source": [
    "# STEP 1: LOAD DATA \n",
    "\n",
    "# Use pandas .read_csv() method to read in classified dataset\n",
    "# index_col -> argument assigns the index to a particular column\n",
    "df_2017= pd.read_csv('/Users/upasanadhar/Documents/Lakes/ML with Python/AWS hackathon/waqi-covid19-airqualitydata-2017H1.csv',index_col=0)\n",
    "df_2018= pd.read_csv('/Users/upasanadhar/Documents/Lakes/ML with Python/AWS hackathon/waqi-covid19-airqualitydata-2018H1.csv',index_col=0)\n",
    "df_2019= pd.read_csv('/Users/upasanadhar/Documents/Lakes/ML with Python/AWS hackathon/waqi-covid19-airqualitydata-2019Q1.csv',index_col=0)\n",
    "df_2020= pd.read_csv('/Users/upasanadhar/Documents/Lakes/ML with Python/AWS hackathon/waqi-covid19-airqualitydata-2020.csv',index_col=0)"
   ]
  },
  {
   "cell_type": "code",
   "execution_count": 7,
   "metadata": {},
   "outputs": [],
   "source": [
    "#Drop other columns, only work with max\n",
    "df_2017=df_2017.drop(['Date', 'min','variance','count','median'], axis = 1)\n",
    "df_2018=df_2018.drop(['Date', 'min','variance','count','median'], axis = 1)\n",
    "df_2019=df_2019.drop(['Date', 'min','variance','count','median'], axis = 1)\n",
    "df_2020=df_2020.drop(['Date', 'min','variance','count','median'], axis = 1)\n"
   ]
  },
  {
   "cell_type": "code",
   "execution_count": 8,
   "metadata": {},
   "outputs": [],
   "source": [
    "df_2017=df_2017[df_2017['Specie'] == 'aqi']\n",
    "df_2018=df_2018[df_2018['Specie'] == 'aqi']\n",
    "df_2019=df_2019[df_2019['Specie'] == 'aqi']\n",
    "df_2020=df_2020[df_2020['Specie'] == 'aqi']\n"
   ]
  },
  {
   "cell_type": "code",
   "execution_count": 9,
   "metadata": {},
   "outputs": [],
   "source": [
    "#FOR 2017\n",
    "df_2017.sort_values(by=['max'], inplace=True, ascending=False)\n",
    "#FOR 2018\n",
    "df_2018.sort_values(by=['max'], inplace=True, ascending=False)\n",
    "#FOR 2019\n",
    "df_2019.sort_values(by=['max'], inplace=True, ascending=False)\n",
    "#FOR 2020\n",
    "df_2020.sort_values(by=['max'], inplace=True, ascending=False)\n"
   ]
  },
  {
   "cell_type": "code",
   "execution_count": 10,
   "metadata": {},
   "outputs": [],
   "source": [
    "df_aqi_2017=df_2017[df_2017['max']>=151] # CITIES WTTH UNHEALTHY AIR QUALITY FOR EVERY ONE\n",
    "df_aqi_2018=df_2018[df_2018['max']>=151] # CITIES WTTH UNHEALTHY AIR QUALITY FOR EVERY ONE\n",
    "df_aqi_2019=df_2019[df_2019['max']>=151] # CITIES WTTH UNHEALTHY AIR QUALITY FOR EVERY ONE\n",
    "df_aqi_2020=df_2020[df_2020['max']>=151] # CITIES WTTH UNHEALTHY AIR QUALITY FOR EVERY ONE\n"
   ]
  },
  {
   "cell_type": "code",
   "execution_count": 11,
   "metadata": {},
   "outputs": [],
   "source": [
    "df_aqi_2017=df_aqi_2017.groupby(['Country']) \n",
    "df_aqi_2018=df_aqi_2018.groupby(['Country']) \n",
    "df_aqi_2019=df_aqi_2019.groupby(['Country']) \n",
    "df_aqi_2020=df_aqi_2020.groupby(['Country']) "
   ]
  },
  {
   "cell_type": "code",
   "execution_count": 12,
   "metadata": {},
   "outputs": [
    {
     "data": {
      "text/html": [
       "<div>\n",
       "<style scoped>\n",
       "    .dataframe tbody tr th:only-of-type {\n",
       "        vertical-align: middle;\n",
       "    }\n",
       "\n",
       "    .dataframe tbody tr th {\n",
       "        vertical-align: top;\n",
       "    }\n",
       "\n",
       "    .dataframe thead th {\n",
       "        text-align: right;\n",
       "    }\n",
       "</style>\n",
       "<table border=\"1\" class=\"dataframe\">\n",
       "  <thead>\n",
       "    <tr style=\"text-align: right;\">\n",
       "      <th></th>\n",
       "      <th>City</th>\n",
       "      <th>Specie</th>\n",
       "      <th>max</th>\n",
       "    </tr>\n",
       "    <tr>\n",
       "      <th>Country</th>\n",
       "      <th></th>\n",
       "      <th></th>\n",
       "      <th></th>\n",
       "    </tr>\n",
       "  </thead>\n",
       "  <tbody>\n",
       "    <tr>\n",
       "      <td>CN</td>\n",
       "      <td>Shijiazhuang</td>\n",
       "      <td>aqi</td>\n",
       "      <td>500.0</td>\n",
       "    </tr>\n",
       "    <tr>\n",
       "      <td>VN</td>\n",
       "      <td>Hanoi</td>\n",
       "      <td>aqi</td>\n",
       "      <td>200.0</td>\n",
       "    </tr>\n",
       "  </tbody>\n",
       "</table>\n",
       "</div>"
      ],
      "text/plain": [
       "                 City Specie    max\n",
       "Country                            \n",
       "CN       Shijiazhuang    aqi  500.0\n",
       "VN              Hanoi    aqi  200.0"
      ]
     },
     "execution_count": 12,
     "metadata": {},
     "output_type": "execute_result"
    }
   ],
   "source": [
    "df_aqi_2017.first()"
   ]
  },
  {
   "cell_type": "code",
   "execution_count": 13,
   "metadata": {},
   "outputs": [
    {
     "data": {
      "text/html": [
       "<div>\n",
       "<style scoped>\n",
       "    .dataframe tbody tr th:only-of-type {\n",
       "        vertical-align: middle;\n",
       "    }\n",
       "\n",
       "    .dataframe tbody tr th {\n",
       "        vertical-align: top;\n",
       "    }\n",
       "\n",
       "    .dataframe thead th {\n",
       "        text-align: right;\n",
       "    }\n",
       "</style>\n",
       "<table border=\"1\" class=\"dataframe\">\n",
       "  <thead>\n",
       "    <tr style=\"text-align: right;\">\n",
       "      <th></th>\n",
       "      <th>City</th>\n",
       "      <th>Specie</th>\n",
       "      <th>max</th>\n",
       "    </tr>\n",
       "    <tr>\n",
       "      <th>Country</th>\n",
       "      <th></th>\n",
       "      <th></th>\n",
       "      <th></th>\n",
       "    </tr>\n",
       "  </thead>\n",
       "  <tbody>\n",
       "    <tr>\n",
       "      <td>CN</td>\n",
       "      <td>Anyang</td>\n",
       "      <td>aqi</td>\n",
       "      <td>500.0</td>\n",
       "    </tr>\n",
       "    <tr>\n",
       "      <td>PR</td>\n",
       "      <td>San Juan</td>\n",
       "      <td>aqi</td>\n",
       "      <td>374.0</td>\n",
       "    </tr>\n",
       "    <tr>\n",
       "      <td>VN</td>\n",
       "      <td>Hanoi</td>\n",
       "      <td>aqi</td>\n",
       "      <td>380.0</td>\n",
       "    </tr>\n",
       "  </tbody>\n",
       "</table>\n",
       "</div>"
      ],
      "text/plain": [
       "             City Specie    max\n",
       "Country                        \n",
       "CN         Anyang    aqi  500.0\n",
       "PR       San Juan    aqi  374.0\n",
       "VN          Hanoi    aqi  380.0"
      ]
     },
     "execution_count": 13,
     "metadata": {},
     "output_type": "execute_result"
    }
   ],
   "source": [
    "df_aqi_2018.first()"
   ]
  },
  {
   "cell_type": "code",
   "execution_count": 14,
   "metadata": {},
   "outputs": [
    {
     "data": {
      "text/html": [
       "<div>\n",
       "<style scoped>\n",
       "    .dataframe tbody tr th:only-of-type {\n",
       "        vertical-align: middle;\n",
       "    }\n",
       "\n",
       "    .dataframe tbody tr th {\n",
       "        vertical-align: top;\n",
       "    }\n",
       "\n",
       "    .dataframe thead th {\n",
       "        text-align: right;\n",
       "    }\n",
       "</style>\n",
       "<table border=\"1\" class=\"dataframe\">\n",
       "  <thead>\n",
       "    <tr style=\"text-align: right;\">\n",
       "      <th></th>\n",
       "      <th>City</th>\n",
       "      <th>Specie</th>\n",
       "      <th>max</th>\n",
       "    </tr>\n",
       "    <tr>\n",
       "      <th>Country</th>\n",
       "      <th></th>\n",
       "      <th></th>\n",
       "      <th></th>\n",
       "    </tr>\n",
       "  </thead>\n",
       "  <tbody>\n",
       "    <tr>\n",
       "      <td>CN</td>\n",
       "      <td>Shijiazhuang</td>\n",
       "      <td>aqi</td>\n",
       "      <td>495.0</td>\n",
       "    </tr>\n",
       "    <tr>\n",
       "      <td>VN</td>\n",
       "      <td>Hanoi</td>\n",
       "      <td>aqi</td>\n",
       "      <td>204.0</td>\n",
       "    </tr>\n",
       "  </tbody>\n",
       "</table>\n",
       "</div>"
      ],
      "text/plain": [
       "                 City Specie    max\n",
       "Country                            \n",
       "CN       Shijiazhuang    aqi  495.0\n",
       "VN              Hanoi    aqi  204.0"
      ]
     },
     "execution_count": 14,
     "metadata": {},
     "output_type": "execute_result"
    }
   ],
   "source": [
    "df_aqi_2019.first()"
   ]
  },
  {
   "cell_type": "code",
   "execution_count": 15,
   "metadata": {},
   "outputs": [
    {
     "data": {
      "text/html": [
       "<div>\n",
       "<style scoped>\n",
       "    .dataframe tbody tr th:only-of-type {\n",
       "        vertical-align: middle;\n",
       "    }\n",
       "\n",
       "    .dataframe tbody tr th {\n",
       "        vertical-align: top;\n",
       "    }\n",
       "\n",
       "    .dataframe thead th {\n",
       "        text-align: right;\n",
       "    }\n",
       "</style>\n",
       "<table border=\"1\" class=\"dataframe\">\n",
       "  <thead>\n",
       "    <tr style=\"text-align: right;\">\n",
       "      <th></th>\n",
       "      <th>City</th>\n",
       "      <th>Specie</th>\n",
       "      <th>max</th>\n",
       "    </tr>\n",
       "    <tr>\n",
       "      <th>Country</th>\n",
       "      <th></th>\n",
       "      <th></th>\n",
       "      <th></th>\n",
       "    </tr>\n",
       "  </thead>\n",
       "  <tbody>\n",
       "    <tr>\n",
       "      <td>AU</td>\n",
       "      <td>Adelaide</td>\n",
       "      <td>aqi</td>\n",
       "      <td>161.0</td>\n",
       "    </tr>\n",
       "  </tbody>\n",
       "</table>\n",
       "</div>"
      ],
      "text/plain": [
       "             City Specie    max\n",
       "Country                        \n",
       "AU       Adelaide    aqi  161.0"
      ]
     },
     "execution_count": 15,
     "metadata": {},
     "output_type": "execute_result"
    }
   ],
   "source": [
    "df_aqi_2020.first()"
   ]
  },
  {
   "cell_type": "markdown",
   "metadata": {},
   "source": [
    "# Number of countries with UNHEALTHY AQI>=151 for the years"
   ]
  },
  {
   "cell_type": "code",
   "execution_count": 16,
   "metadata": {},
   "outputs": [
    {
     "name": "stdout",
     "output_type": "stream",
     "text": [
      "Number of countries with UNHEALTHY AQI>=151 for the year 2017: 2\n",
      "Number of countries with UNHEALTHY AQI>=151 for the year 2018: 3\n",
      "Number of countries with UNHEALTHY AQI>=151 for the year 2019: 2\n",
      "Number of countries with UNHEALTHY AQI>=151 for the year 2020: 1\n"
     ]
    }
   ],
   "source": [
    "print ('Number of countries with UNHEALTHY AQI>=151 for the year 2017:', len(df_aqi_2017) )\n",
    "print ('Number of countries with UNHEALTHY AQI>=151 for the year 2018:', len(df_aqi_2018) )\n",
    "print ('Number of countries with UNHEALTHY AQI>=151 for the year 2019:', len(df_aqi_2019) )\n",
    "print ('Number of countries with UNHEALTHY AQI>=151 for the year 2020:', len(df_aqi_2020) )"
   ]
  },
  {
   "cell_type": "markdown",
   "metadata": {},
   "source": [
    "# Number of COUNTRIES with UNHEALTHY AQI FOR SENSITIVE GROUPS>=101 for the years"
   ]
  },
  {
   "cell_type": "code",
   "execution_count": 17,
   "metadata": {},
   "outputs": [],
   "source": [
    "df_aqi_2017_a=df_2017[df_2017['max']>=101] #COUNTRIES WTTH UNHEALTHY AIR QUALITY FOR SENSITIVE GROUPS\n",
    "df_aqi_2018_a=df_2018[df_2018['max']>=101] #COUNTRIES WTTH UNHEALTHY AIR QUALITY FOR SENSITIVE GROUPS\n",
    "df_aqi_2019_a=df_2019[df_2019['max']>=101] #COUNTRIES WTTH UNHEALTHY AIR QUALITY FOR SENSITIVE GROUPS\n",
    "df_aqi_2020_a=df_2020[df_2020['max']>=101] #COUNTRIES WTTH UNHEALTHY AIR QUALITY FOR SENSITIVE GROUPS"
   ]
  },
  {
   "cell_type": "code",
   "execution_count": 18,
   "metadata": {},
   "outputs": [],
   "source": [
    "df_aqi_2017_a=df_aqi_2017_a.groupby(['Country']) \n",
    "df_aqi_2018_a=df_aqi_2018_a.groupby(['Country']) \n",
    "df_aqi_2019_a=df_aqi_2019_a.groupby(['Country']) \n",
    "df_aqi_2020_a=df_aqi_2020_a.groupby(['Country']) "
   ]
  },
  {
   "cell_type": "code",
   "execution_count": 19,
   "metadata": {},
   "outputs": [
    {
     "name": "stdout",
     "output_type": "stream",
     "text": [
      "Number of countries with UNHEALTHY FOR SENSITIVE GROUPS AQI>=101 for the year 2017: 3\n",
      "Number of countries with UNHEALTHY FOR SENSITIVE GROUPS AQI>=101 for the year 2018: 4\n",
      "Number of countries with UNHEALTHY FOR SENSITIVE GROUPS AQI>=101 for the year 2019: 2\n",
      "Number of countries with UNHEALTHY FOR SENSITIVE GROUPS AQI>=101 for the year 2020: 2\n"
     ]
    }
   ],
   "source": [
    "print ('Number of countries with UNHEALTHY FOR SENSITIVE GROUPS AQI>=101 for the year 2017:', len(df_aqi_2017_a) )\n",
    "print ('Number of countries with UNHEALTHY FOR SENSITIVE GROUPS AQI>=101 for the year 2018:', len(df_aqi_2018_a) )\n",
    "print ('Number of countries with UNHEALTHY FOR SENSITIVE GROUPS AQI>=101 for the year 2019:', len(df_aqi_2019_a) )\n",
    "print ('Number of countries with UNHEALTHY FOR SENSITIVE GROUPS AQI>=101 for the year 2020:', len(df_aqi_2020_a) )"
   ]
  },
  {
   "cell_type": "markdown",
   "metadata": {},
   "source": [
    "# Number of countries with MODERATE AQI>=51 <101 for the years"
   ]
  },
  {
   "cell_type": "code",
   "execution_count": 20,
   "metadata": {},
   "outputs": [],
   "source": [
    "df_aqi_2017_c=df_2017[(df_2017['max']>51) & (df_2017['max']<=101)] #countries WTTH MODERATE AIR QUALITY \n",
    "df_aqi_2018_c=df_2018[(df_2018['max']>51) & (df_2018['max']<=101)] #countries WTTH MODERATE AIR QUALITY \n",
    "df_aqi_2019_c=df_2019[(df_2019['max']>51) & (df_2019['max']<=101)] #countries WTTH MODERATE AIR QUALITY \n",
    "df_aqi_2020_c=df_2020[(df_2020['max']>51) & (df_2020['max']<=101)] #countries WTTH MODERATE AIR QUALITY "
   ]
  },
  {
   "cell_type": "code",
   "execution_count": 21,
   "metadata": {},
   "outputs": [],
   "source": [
    "df_aqi_2017_c=df_aqi_2017_c.groupby(['Country']) \n",
    "df_aqi_2018_c=df_aqi_2018_c.groupby(['Country']) \n",
    "df_aqi_2019_c=df_aqi_2019_c.groupby(['Country']) \n",
    "df_aqi_2020_c=df_aqi_2020_c.groupby(['Country']) "
   ]
  },
  {
   "cell_type": "code",
   "execution_count": 22,
   "metadata": {},
   "outputs": [
    {
     "name": "stdout",
     "output_type": "stream",
     "text": [
      "Number of countries with MODERATE AQI>51 AND <101 for the year 2017: 3\n",
      "Number of countries with MODERATE AQI>51 AND <101 for the year 2018: 4\n",
      "Number of countries with MODERATE AQI>51 AND <101 for the year 2019: 3\n",
      "Number of countries with MODERATE AQI>51 AND <101 for the year 2020: 2\n"
     ]
    }
   ],
   "source": [
    "print ('Number of countries with MODERATE AQI>51 AND <101 for the year 2017:', len(df_aqi_2017_c) )\n",
    "print ('Number of countries with MODERATE AQI>51 AND <101 for the year 2018:', len(df_aqi_2018_c) )\n",
    "print ('Number of countries with MODERATE AQI>51 AND <101 for the year 2019:', len(df_aqi_2019_c) )\n",
    "print ('Number of countries with MODERATE AQI>51 AND <101 for the year 2020:', len(df_aqi_2020_c) )"
   ]
  },
  {
   "cell_type": "markdown",
   "metadata": {},
   "source": [
    "# Number of cities with GOOD AQI<=51 for the years"
   ]
  },
  {
   "cell_type": "code",
   "execution_count": 23,
   "metadata": {},
   "outputs": [],
   "source": [
    "df_aqi_2017_b=df_2017[df_2017['max']<=51] #Countries WTTH GOOD AIR QUALITY \n",
    "df_aqi_2018_b=df_2018[df_2018['max']<=51] #Countries WTTH GOOD AIR QUALITY \n",
    "df_aqi_2019_b=df_2019[df_2019['max']<=51] #Countries WTTH GOOD AIR QUALITY \n",
    "df_aqi_2020_b=df_2020[df_2020['max']<=51] #Countries WTTH GOOD AIR QUALITY "
   ]
  },
  {
   "cell_type": "code",
   "execution_count": 24,
   "metadata": {},
   "outputs": [],
   "source": [
    "df_aqi_2017_b=df_aqi_2017_b.groupby(['Country']) \n",
    "df_aqi_2018_b=df_aqi_2018_b.groupby(['Country']) \n",
    "df_aqi_2019_b=df_aqi_2019_b.groupby(['Country']) \n",
    "df_aqi_2020_b=df_aqi_2020_b.groupby(['Country']) "
   ]
  },
  {
   "cell_type": "code",
   "execution_count": 25,
   "metadata": {},
   "outputs": [
    {
     "name": "stdout",
     "output_type": "stream",
     "text": [
      "Number of countries with GOOD AQI<=51 for the year 2017: 1\n",
      "Number of countries with GOOD AQI<=51 for the year 2018: 4\n",
      "Number of countries with GOOD AQI<=51 for the year 2019: 4\n",
      "Number of countries with GOOD AQI<=51 for the year 2020: 3\n"
     ]
    }
   ],
   "source": [
    "print ('Number of countries with GOOD AQI<=51 for the year 2017:', len(df_aqi_2017_b) )\n",
    "print ('Number of countries with GOOD AQI<=51 for the year 2018:', len(df_aqi_2018_b) )\n",
    "print ('Number of countries with GOOD AQI<=51 for the year 2019:', len(df_aqi_2019_b) )\n",
    "print ('Number of countries with GOOD AQI<=51 for the year 2020:', len(df_aqi_2020_b) )"
   ]
  },
  {
   "cell_type": "code",
   "execution_count": 27,
   "metadata": {},
   "outputs": [
    {
     "name": "stdout",
     "output_type": "stream",
     "text": [
      "               City Specie   max\n",
      "Country                         \n",
      "MY       Kota Bharu    aqi  51.0\n",
      "                City Specie   max\n",
      "Country                          \n",
      "CN       Qinhuangdao    aqi  50.0\n",
      "MY           Malacca    aqi  51.0\n",
      "PR          San Juan    aqi  51.0\n",
      "VN             Hanoi    aqi  50.0\n",
      "                City Specie   max\n",
      "Country                          \n",
      "CN       Qinhuangdao    aqi   0.0\n",
      "MY        Alor Setar    aqi  51.0\n",
      "PR          San Juan    aqi  22.0\n",
      "VN             Hanoi    aqi  51.0\n",
      "             City Specie   max\n",
      "Country                       \n",
      "AU       Adelaide    aqi  51.0\n",
      "MY           Ipoh    aqi  51.0\n",
      "PR       San Juan    aqi  22.0\n"
     ]
    }
   ],
   "source": [
    "print (df_aqi_2017_b. first())\n",
    "print (df_aqi_2018_b.first())\n",
    "print (df_aqi_2019_b.first())\n",
    "print (df_aqi_2020_b.first())"
   ]
  },
  {
   "cell_type": "code",
   "execution_count": null,
   "metadata": {},
   "outputs": [],
   "source": []
  }
 ],
 "metadata": {
  "kernelspec": {
   "display_name": "Python 3",
   "language": "python",
   "name": "python3"
  },
  "language_info": {
   "codemirror_mode": {
    "name": "ipython",
    "version": 3
   },
   "file_extension": ".py",
   "mimetype": "text/x-python",
   "name": "python",
   "nbconvert_exporter": "python",
   "pygments_lexer": "ipython3",
   "version": "3.7.4"
  }
 },
 "nbformat": 4,
 "nbformat_minor": 2
}
